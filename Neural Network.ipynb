{
 "cells": [
  {
   "cell_type": "code",
   "execution_count": 1,
   "metadata": {},
   "outputs": [],
   "source": [
    "import numpy as np\n",
    "import matplotlib.pyplot as plt\n",
    "\n",
    "%matplotlib inline\n",
    "\n",
    "%load_ext autoreload\n",
    "%autoreload 2"
   ]
  },
  {
   "cell_type": "code",
   "execution_count": 2,
   "metadata": {},
   "outputs": [],
   "source": [
    "from dataset import load_svhn, random_split_train_val\n",
    "from gradient_check import check_layer_gradient, check_layer_param_gradient, check_model_gradient\n",
    "from layers import FullyConnectedLayer, ReLULayer\n",
    "from model import TwoLayerNet\n",
    "from trainer import Trainer, Dataset\n",
    "from optim import SGD, MomentumSGD\n",
    "from metrics import multiclass_accuracy"
   ]
  },
  {
   "cell_type": "code",
   "execution_count": 3,
   "metadata": {},
   "outputs": [],
   "source": [
    "def prepare_for_neural_network(train_X, test_X):\n",
    "    train_flat = train_X.reshape(train_X.shape[0], -1).astype(np.float) / 255.0\n",
    "    test_flat = test_X.reshape(test_X.shape[0], -1).astype(np.float) / 255.0\n",
    "    \n",
    "    # Subtract mean\n",
    "    mean_image = np.mean(train_flat, axis = 0)\n",
    "    train_flat -= mean_image\n",
    "    test_flat -= mean_image\n",
    "    \n",
    "    return train_flat, test_flat\n",
    "    \n",
    "train_X, train_y, test_X, test_y = load_svhn(\"data\", max_train=10000, max_test=1000)    \n",
    "train_X, test_X = prepare_for_neural_network(train_X, test_X)\n",
    "# Split train into train and val\n",
    "train_X, train_y, val_X, val_y = random_split_train_val(train_X, train_y, num_val = 1000)"
   ]
  },
  {
   "cell_type": "code",
   "execution_count": 4,
   "metadata": {},
   "outputs": [
    {
     "name": "stdout",
     "output_type": "stream",
     "text": [
      "Gradient check passed!\n"
     ]
    }
   ],
   "source": [
    "# TODO: Implement ReLULayer layer in layers.py\n",
    "# Note: you'll need to copy implementation of the gradient_check function from the previous assignment\n",
    "\n",
    "X = np.array([[1,-2,3],\n",
    "              [-1, 2, 0.1]\n",
    "              ])\n",
    "\n",
    "assert check_layer_gradient(ReLULayer(), X)"
   ]
  },
  {
   "cell_type": "code",
   "execution_count": 5,
   "metadata": {},
   "outputs": [
    {
     "name": "stdout",
     "output_type": "stream",
     "text": [
      "Gradient check passed!\n",
      "Gradient check passed!\n",
      "Gradient check passed!\n"
     ]
    }
   ],
   "source": [
    "# TODO: Implement FullyConnected layer forward and backward methods\n",
    "assert check_layer_gradient(FullyConnectedLayer(3, 4), X)\n",
    "# TODO: Implement storing gradients for W and B\n",
    "assert check_layer_param_gradient(FullyConnectedLayer(3, 4), X, 'W')\n",
    "assert check_layer_param_gradient(FullyConnectedLayer(3, 4), X, 'B')"
   ]
  },
  {
   "cell_type": "code",
   "execution_count": 6,
   "metadata": {},
   "outputs": [
    {
     "name": "stdout",
     "output_type": "stream",
     "text": [
      "Checking gradient for W1\n",
      "Gradient check passed!\n",
      "Checking gradient for B1\n",
      "Gradient check passed!\n",
      "Checking gradient for W2\n",
      "Gradient check passed!\n",
      "Checking gradient for B2\n",
      "Gradient check passed!\n"
     ]
    },
    {
     "data": {
      "text/plain": [
       "True"
      ]
     },
     "execution_count": 6,
     "metadata": {},
     "output_type": "execute_result"
    }
   ],
   "source": [
    "# TODO: In model.py, implement compute_loss_and_gradients function\n",
    "model = TwoLayerNet(n_input = train_X.shape[1], n_output = 10, hidden_layer_size = 3, reg = 0)\n",
    "loss = model.compute_loss_and_gradients(train_X[:2], train_y[:2])\n",
    "\n",
    "# TODO Now implement backward pass and aggregate all of the params\n",
    "check_model_gradient(model, train_X[:2], train_y[:2])"
   ]
  },
  {
   "cell_type": "code",
   "execution_count": 55,
   "metadata": {},
   "outputs": [
    {
     "name": "stdout",
     "output_type": "stream",
     "text": [
      "Checking gradient for W1\n",
      "Gradient check passed!\n",
      "Checking gradient for B1\n",
      "Gradient check passed!\n",
      "Checking gradient for W2\n",
      "Gradient check passed!\n",
      "Checking gradient for B2\n",
      "Gradient check passed!\n"
     ]
    },
    {
     "data": {
      "text/plain": [
       "True"
      ]
     },
     "execution_count": 55,
     "metadata": {},
     "output_type": "execute_result"
    }
   ],
   "source": [
    "# TODO Now implement l2 regularization in the forward and backward pass\n",
    "model_with_reg = TwoLayerNet(n_input = train_X.shape[1], n_output = 10, hidden_layer_size = 3, reg = 1e1)\n",
    "loss_with_reg = model_with_reg.compute_loss_and_gradients(train_X[:2], train_y[:2])\n",
    "assert loss_with_reg > loss and not np.isclose(loss_with_reg, loss), \\\n",
    "    \"Loss with regularization (%2.4f) should be higher than without it (%2.4f)!\" % (loss, loss_with_reg)\n",
    "\n",
    "check_model_gradient(model_with_reg, train_X[:2], train_y[:2])"
   ]
  },
  {
   "cell_type": "code",
   "execution_count": 8,
   "metadata": {},
   "outputs": [
    {
     "data": {
      "text/plain": [
       "0.1"
      ]
     },
     "execution_count": 8,
     "metadata": {},
     "output_type": "execute_result"
    }
   ],
   "source": [
    "# Finally, implement predict function!\n",
    "\n",
    "# TODO: Implement predict function\n",
    "# What would be the value we expect?\n",
    "multiclass_accuracy(model_with_reg.predict(train_X[:30]), train_y[:30])"
   ]
  },
  {
   "cell_type": "code",
   "execution_count": 75,
   "metadata": {},
   "outputs": [
    {
     "name": "stdout",
     "output_type": "stream",
     "text": [
      "Loss: 2.301712, Train accuracy: 0.196667, val accuracy: 0.206000\n",
      "Loss: 2.302345, Train accuracy: 0.196667, val accuracy: 0.206000\n",
      "Loss: 2.302075, Train accuracy: 0.196667, val accuracy: 0.206000\n",
      "Loss: 2.302357, Train accuracy: 0.196667, val accuracy: 0.206000\n",
      "Loss: 2.302029, Train accuracy: 0.196667, val accuracy: 0.206000\n"
     ]
    }
   ],
   "source": [
    "model = TwoLayerNet(n_input = train_X.shape[1], n_output = 10, hidden_layer_size = 100, reg = 1e1)\n",
    "dataset = Dataset(train_X, train_y, val_X, val_y)\n",
    "trainer = Trainer(model, dataset, SGD(), learning_rate = 1e-2, num_epochs=5)\n",
    "\n",
    "# TODO Implement missing pieces in Trainer.fit function\n",
    "# You should expect loss to go down every epoch, even if it's slow\n",
    "loss_history, train_history, val_history = trainer.fit()"
   ]
  },
  {
   "cell_type": "code",
   "execution_count": 76,
   "metadata": {},
   "outputs": [
    {
     "name": "stdout",
     "output_type": "stream",
     "text": [
      "[2.3214021629438735, 2.3023726217043783, 2.3023775606506165, 2.3023763950360387, 2.302381118613543]\n"
     ]
    },
    {
     "data": {
      "text/plain": [
       "[<matplotlib.lines.Line2D at 0xa2b9eb8>]"
      ]
     },
     "execution_count": 76,
     "metadata": {},
     "output_type": "execute_result"
    },
    {
     "data": {
      "image/png": "[encoded data removed]",
      "text/plain": [
       "<Figure size 432x288 with 1 Axes>"
      ]
     },
     "metadata": {
      "needs_background": "light"
     },
     "output_type": "display_data"
    }
   ],
   "source": [
    "print(loss_history)\n",
    "plt.plot(train_history)\n",
    "plt.plot(val_history)"
   ]
  },
  {
   "cell_type": "code",
   "execution_count": 77,
   "metadata": {},
   "outputs": [
    {
     "name": "stdout",
     "output_type": "stream",
     "text": [
      "Loss: 2.307681, Train accuracy: 0.125889, val accuracy: 0.128000\n",
      "Loss: 2.303441, Train accuracy: 0.119222, val accuracy: 0.122000\n",
      "Loss: 2.302732, Train accuracy: 0.109778, val accuracy: 0.115000\n",
      "Loss: 2.302611, Train accuracy: 0.100667, val accuracy: 0.100000\n",
      "Loss: 2.302590, Train accuracy: 0.099000, val accuracy: 0.093000\n",
      "Loss: 2.302586, Train accuracy: 0.099000, val accuracy: 0.093000\n",
      "Loss: 2.302585, Train accuracy: 0.099000, val accuracy: 0.093000\n",
      "Loss: 2.302585, Train accuracy: 0.099000, val accuracy: 0.093000\n",
      "Loss: 2.302585, Train accuracy: 0.099000, val accuracy: 0.093000\n",
      "Loss: 2.302585, Train accuracy: 0.099000, val accuracy: 0.093000\n",
      "Loss: 2.302585, Train accuracy: 0.099000, val accuracy: 0.093000\n",
      "Loss: 2.302585, Train accuracy: 0.099000, val accuracy: 0.093000\n",
      "Loss: 2.302585, Train accuracy: 0.099000, val accuracy: 0.093000\n",
      "Loss: 2.302585, Train accuracy: 0.099000, val accuracy: 0.093000\n",
      "Loss: 2.302585, Train accuracy: 0.099000, val accuracy: 0.093000\n",
      "Loss: 2.302585, Train accuracy: 0.099000, val accuracy: 0.093000\n",
      "Loss: 2.302585, Train accuracy: 0.099000, val accuracy: 0.093000\n",
      "Loss: 2.302585, Train accuracy: 0.099000, val accuracy: 0.093000\n",
      "Loss: 2.302585, Train accuracy: 0.099000, val accuracy: 0.093000\n",
      "Loss: 2.302585, Train accuracy: 0.099000, val accuracy: 0.093000\n"
     ]
    }
   ],
   "source": [
    "# TODO Implement learning rate decay inside Trainer.fit method\n",
    "# Decay should happen once per epoch\n",
    "\n",
    "model = TwoLayerNet(n_input = train_X.shape[1], n_output = 10, hidden_layer_size = 100, reg = 1e-1)\n",
    "dataset = Dataset(train_X, train_y, val_X, val_y)\n",
    "trainer = Trainer(model, dataset, SGD(), learning_rate_decay=0.99)\n",
    "\n",
    "initial_learning_rate = trainer.learning_rate\n",
    "loss_history, train_history, val_history = trainer.fit()\n",
    "\n",
    "assert trainer.learning_rate < initial_learning_rate, \"Learning rate should've been reduced\"\n",
    "assert trainer.learning_rate > 0.5*initial_learning_rate, \"Learning rate shouldn'tve been reduced that much!\""
   ]
  },
  {
   "cell_type": "code",
   "execution_count": 78,
   "metadata": {},
   "outputs": [
    {
     "name": "stdout",
     "output_type": "stream",
     "text": [
      "Loss: 2.256277, Train accuracy: 0.196667, val accuracy: 0.206000\n",
      "Loss: 2.242495, Train accuracy: 0.196667, val accuracy: 0.206000\n",
      "Loss: 2.320861, Train accuracy: 0.196667, val accuracy: 0.206000\n",
      "Loss: 2.271387, Train accuracy: 0.196667, val accuracy: 0.206000\n",
      "Loss: 2.273135, Train accuracy: 0.196667, val accuracy: 0.206000\n",
      "Loss: 2.299197, Train accuracy: 0.196667, val accuracy: 0.206000\n",
      "Loss: 2.280259, Train accuracy: 0.196667, val accuracy: 0.206000\n",
      "Loss: 2.202608, Train accuracy: 0.196667, val accuracy: 0.206000\n",
      "Loss: 2.277043, Train accuracy: 0.196667, val accuracy: 0.206000\n",
      "Loss: 2.272671, Train accuracy: 0.196667, val accuracy: 0.206000\n",
      "Loss: 2.286162, Train accuracy: 0.196667, val accuracy: 0.206000\n",
      "Loss: 2.296893, Train accuracy: 0.196667, val accuracy: 0.206000\n",
      "Loss: 2.350114, Train accuracy: 0.196667, val accuracy: 0.206000\n",
      "Loss: 2.363681, Train accuracy: 0.196667, val accuracy: 0.206000\n",
      "Loss: 2.322972, Train accuracy: 0.196667, val accuracy: 0.206000\n",
      "Loss: 2.298520, Train accuracy: 0.196667, val accuracy: 0.206000\n",
      "Loss: 2.276122, Train accuracy: 0.196667, val accuracy: 0.206000\n",
      "Loss: 2.240865, Train accuracy: 0.196667, val accuracy: 0.206000\n",
      "Loss: 2.261825, Train accuracy: 0.196667, val accuracy: 0.206000\n",
      "Loss: 2.310104, Train accuracy: 0.196667, val accuracy: 0.206000\n"
     ]
    }
   ],
   "source": [
    "# TODO: Implement MomentumSGD.update function in optim.py\n",
    "\n",
    "model = TwoLayerNet(n_input = train_X.shape[1], n_output = 10, hidden_layer_size = 100, reg = 1e-1)\n",
    "dataset = Dataset(train_X, train_y, val_X, val_y)\n",
    "trainer = Trainer(model, dataset, MomentumSGD(), learning_rate_decay=0.99)\n",
    "\n",
    "# You should see even better results than before!\n",
    "loss_history, train_history, val_history = trainer.fit()"
   ]
  },
  {
   "cell_type": "code",
   "execution_count": 84,
   "metadata": {},
   "outputs": [
    {
     "name": "stdout",
     "output_type": "stream",
     "text": [
      "Loss: 2.339903, Train accuracy: 0.200000, val accuracy: 0.133333\n",
      "Loss: 2.327734, Train accuracy: 0.266667, val accuracy: 0.066667\n",
      "Loss: 2.329720, Train accuracy: 0.266667, val accuracy: 0.066667\n",
      "Loss: 2.300999, Train accuracy: 0.333333, val accuracy: 0.066667\n",
      "Loss: 2.264758, Train accuracy: 0.266667, val accuracy: 0.000000\n",
      "Loss: 2.254096, Train accuracy: 0.266667, val accuracy: 0.000000\n",
      "Loss: 2.361081, Train accuracy: 0.266667, val accuracy: 0.000000\n",
      "Loss: 2.183620, Train accuracy: 0.266667, val accuracy: 0.000000\n",
      "Loss: 2.114134, Train accuracy: 0.400000, val accuracy: 0.000000\n",
      "Loss: 2.320376, Train accuracy: 0.400000, val accuracy: 0.000000\n",
      "Loss: 2.114976, Train accuracy: 0.400000, val accuracy: 0.000000\n",
      "Loss: 2.301156, Train accuracy: 0.400000, val accuracy: 0.000000\n",
      "Loss: 1.873130, Train accuracy: 0.400000, val accuracy: 0.000000\n",
      "Loss: 2.028180, Train accuracy: 0.400000, val accuracy: 0.000000\n",
      "Loss: 1.839996, Train accuracy: 0.333333, val accuracy: 0.000000\n",
      "Loss: 2.149626, Train accuracy: 0.400000, val accuracy: 0.000000\n",
      "Loss: 1.494548, Train accuracy: 0.400000, val accuracy: 0.000000\n",
      "Loss: 1.889062, Train accuracy: 0.400000, val accuracy: 0.000000\n",
      "Loss: 2.244607, Train accuracy: 0.400000, val accuracy: 0.000000\n",
      "Loss: 2.416065, Train accuracy: 0.400000, val accuracy: 0.000000\n",
      "Loss: 1.904946, Train accuracy: 0.400000, val accuracy: 0.000000\n",
      "Loss: 1.629209, Train accuracy: 0.400000, val accuracy: 0.000000\n",
      "Loss: 1.997709, Train accuracy: 0.466667, val accuracy: 0.066667\n",
      "Loss: 1.441313, Train accuracy: 0.400000, val accuracy: 0.000000\n",
      "Loss: 1.672488, Train accuracy: 0.466667, val accuracy: 0.000000\n",
      "Loss: 1.567921, Train accuracy: 0.466667, val accuracy: 0.000000\n",
      "Loss: 1.947055, Train accuracy: 0.466667, val accuracy: 0.000000\n",
      "Loss: 1.211505, Train accuracy: 0.466667, val accuracy: 0.000000\n",
      "Loss: 2.100731, Train accuracy: 0.466667, val accuracy: 0.066667\n",
      "Loss: 2.188288, Train accuracy: 0.533333, val accuracy: 0.066667\n",
      "Loss: 1.081423, Train accuracy: 0.533333, val accuracy: 0.066667\n",
      "Loss: 2.322652, Train accuracy: 0.666667, val accuracy: 0.066667\n",
      "Loss: 1.392318, Train accuracy: 0.600000, val accuracy: 0.000000\n",
      "Loss: 1.855728, Train accuracy: 0.666667, val accuracy: 0.066667\n",
      "Loss: 1.671002, Train accuracy: 0.666667, val accuracy: 0.066667\n",
      "Loss: 1.277063, Train accuracy: 0.666667, val accuracy: 0.066667\n",
      "Loss: 1.864576, Train accuracy: 0.666667, val accuracy: 0.066667\n",
      "Loss: 1.725862, Train accuracy: 0.666667, val accuracy: 0.066667\n",
      "Loss: 1.449059, Train accuracy: 0.666667, val accuracy: 0.066667\n",
      "Loss: 1.298560, Train accuracy: 0.666667, val accuracy: 0.066667\n",
      "Loss: 1.784973, Train accuracy: 0.666667, val accuracy: 0.066667\n",
      "Loss: 1.292044, Train accuracy: 0.666667, val accuracy: 0.066667\n",
      "Loss: 1.214027, Train accuracy: 0.600000, val accuracy: 0.000000\n",
      "Loss: 1.250849, Train accuracy: 0.666667, val accuracy: 0.133333\n",
      "Loss: 1.590295, Train accuracy: 0.666667, val accuracy: 0.066667\n",
      "Loss: 1.306191, Train accuracy: 0.666667, val accuracy: 0.000000\n",
      "Loss: 1.419504, Train accuracy: 0.666667, val accuracy: 0.066667\n",
      "Loss: 1.806819, Train accuracy: 0.666667, val accuracy: 0.133333\n",
      "Loss: 1.201900, Train accuracy: 0.666667, val accuracy: 0.000000\n",
      "Loss: 1.485265, Train accuracy: 0.666667, val accuracy: 0.000000\n",
      "Loss: 1.360390, Train accuracy: 0.733333, val accuracy: 0.066667\n",
      "Loss: 1.579103, Train accuracy: 0.733333, val accuracy: 0.066667\n",
      "Loss: 1.296196, Train accuracy: 0.733333, val accuracy: 0.066667\n",
      "Loss: 1.715056, Train accuracy: 0.733333, val accuracy: 0.000000\n",
      "Loss: 1.510631, Train accuracy: 0.733333, val accuracy: 0.066667\n",
      "Loss: 1.153065, Train accuracy: 0.733333, val accuracy: 0.066667\n",
      "Loss: 1.629661, Train accuracy: 0.733333, val accuracy: 0.066667\n",
      "Loss: 1.432333, Train accuracy: 0.733333, val accuracy: 0.066667\n",
      "Loss: 1.286272, Train accuracy: 0.733333, val accuracy: 0.066667\n",
      "Loss: 1.979211, Train accuracy: 0.733333, val accuracy: 0.066667\n",
      "Loss: 1.026582, Train accuracy: 0.733333, val accuracy: 0.000000\n",
      "Loss: 1.274891, Train accuracy: 0.733333, val accuracy: 0.066667\n",
      "Loss: 1.151284, Train accuracy: 0.733333, val accuracy: 0.066667\n",
      "Loss: 1.396516, Train accuracy: 0.733333, val accuracy: 0.066667\n",
      "Loss: 0.927830, Train accuracy: 0.733333, val accuracy: 0.066667\n",
      "Loss: 1.744979, Train accuracy: 0.733333, val accuracy: 0.066667\n",
      "Loss: 1.920034, Train accuracy: 0.733333, val accuracy: 0.066667\n",
      "Loss: 1.143317, Train accuracy: 0.800000, val accuracy: 0.066667\n",
      "Loss: 1.380275, Train accuracy: 0.800000, val accuracy: 0.066667\n",
      "Loss: 1.533375, Train accuracy: 0.800000, val accuracy: 0.066667\n",
      "Loss: 1.004152, Train accuracy: 0.866667, val accuracy: 0.066667\n",
      "Loss: 1.408643, Train accuracy: 0.866667, val accuracy: 0.066667\n",
      "Loss: 1.206772, Train accuracy: 0.866667, val accuracy: 0.066667\n",
      "Loss: 1.232468, Train accuracy: 0.866667, val accuracy: 0.066667\n",
      "Loss: 1.193382, Train accuracy: 0.866667, val accuracy: 0.066667\n",
      "Loss: 1.436378, Train accuracy: 0.866667, val accuracy: 0.066667\n",
      "Loss: 1.343133, Train accuracy: 0.866667, val accuracy: 0.066667\n",
      "Loss: 1.256665, Train accuracy: 0.866667, val accuracy: 0.066667\n",
      "Loss: 0.971079, Train accuracy: 0.866667, val accuracy: 0.066667\n",
      "Loss: 1.653476, Train accuracy: 0.866667, val accuracy: 0.066667\n",
      "Loss: 1.560194, Train accuracy: 0.866667, val accuracy: 0.066667\n",
      "Loss: 1.684751, Train accuracy: 0.866667, val accuracy: 0.066667\n",
      "Loss: 1.559790, Train accuracy: 0.866667, val accuracy: 0.066667\n",
      "Loss: 1.542978, Train accuracy: 0.866667, val accuracy: 0.066667\n",
      "Loss: 1.764709, Train accuracy: 0.866667, val accuracy: 0.000000\n",
      "Loss: 1.345074, Train accuracy: 0.866667, val accuracy: 0.066667\n",
      "Loss: 1.479923, Train accuracy: 0.866667, val accuracy: 0.000000\n",
      "Loss: 1.283823, Train accuracy: 0.866667, val accuracy: 0.000000\n",
      "Loss: 1.520789, Train accuracy: 0.866667, val accuracy: 0.000000\n",
      "Loss: 1.396763, Train accuracy: 0.866667, val accuracy: 0.000000\n",
      "Loss: 1.341356, Train accuracy: 0.866667, val accuracy: 0.000000\n",
      "Loss: 1.410148, Train accuracy: 0.866667, val accuracy: 0.000000\n",
      "Loss: 1.590523, Train accuracy: 0.866667, val accuracy: 0.000000\n",
      "Loss: 1.453228, Train accuracy: 0.866667, val accuracy: 0.000000\n",
      "Loss: 1.198175, Train accuracy: 0.866667, val accuracy: 0.000000\n",
      "Loss: 1.090043, Train accuracy: 0.866667, val accuracy: 0.000000\n",
      "Loss: 1.470104, Train accuracy: 0.866667, val accuracy: 0.000000\n",
      "Loss: 1.385620, Train accuracy: 0.866667, val accuracy: 0.000000\n",
      "Loss: 1.164806, Train accuracy: 0.866667, val accuracy: 0.000000\n",
      "Loss: 1.414765, Train accuracy: 0.866667, val accuracy: 0.000000\n",
      "Loss: 1.541973, Train accuracy: 0.866667, val accuracy: 0.000000\n",
      "Loss: 1.634912, Train accuracy: 0.866667, val accuracy: 0.000000\n",
      "Loss: 1.440678, Train accuracy: 0.866667, val accuracy: 0.000000\n",
      "Loss: 1.264741, Train accuracy: 0.933333, val accuracy: 0.000000\n",
      "Loss: 1.389219, Train accuracy: 0.866667, val accuracy: 0.000000\n",
      "Loss: 1.150964, Train accuracy: 0.866667, val accuracy: 0.000000\n",
      "Loss: 1.454273, Train accuracy: 0.933333, val accuracy: 0.000000\n",
      "Loss: 1.082948, Train accuracy: 0.866667, val accuracy: 0.000000\n",
      "Loss: 1.088407, Train accuracy: 0.933333, val accuracy: 0.000000\n",
      "Loss: 1.189935, Train accuracy: 1.000000, val accuracy: 0.000000\n",
      "Loss: 1.183134, Train accuracy: 0.933333, val accuracy: 0.000000\n",
      "Loss: 1.387377, Train accuracy: 0.933333, val accuracy: 0.000000\n",
      "Loss: 1.580849, Train accuracy: 1.000000, val accuracy: 0.000000\n",
      "Loss: 1.202912, Train accuracy: 1.000000, val accuracy: 0.000000\n",
      "Loss: 1.496627, Train accuracy: 0.933333, val accuracy: 0.000000\n",
      "Loss: 1.524308, Train accuracy: 1.000000, val accuracy: 0.000000\n",
      "Loss: 1.411263, Train accuracy: 1.000000, val accuracy: 0.000000\n",
      "Loss: 1.487841, Train accuracy: 1.000000, val accuracy: 0.000000\n",
      "Loss: 1.247209, Train accuracy: 0.933333, val accuracy: 0.000000\n",
      "Loss: 1.320440, Train accuracy: 1.000000, val accuracy: 0.000000\n",
      "Loss: 1.221493, Train accuracy: 1.000000, val accuracy: 0.000000\n",
      "Loss: 1.162151, Train accuracy: 1.000000, val accuracy: 0.000000\n",
      "Loss: 1.407195, Train accuracy: 1.000000, val accuracy: 0.000000\n",
      "Loss: 1.445741, Train accuracy: 1.000000, val accuracy: 0.000000\n",
      "Loss: 1.235331, Train accuracy: 1.000000, val accuracy: 0.000000\n",
      "Loss: 1.201928, Train accuracy: 1.000000, val accuracy: 0.000000\n",
      "Loss: 1.254204, Train accuracy: 0.933333, val accuracy: 0.000000\n"
     ]
    },
    {
     "name": "stdout",
     "output_type": "stream",
     "text": [
      "Loss: 1.524885, Train accuracy: 1.000000, val accuracy: 0.000000\n",
      "Loss: 1.366876, Train accuracy: 1.000000, val accuracy: 0.000000\n",
      "Loss: 1.156471, Train accuracy: 1.000000, val accuracy: 0.000000\n",
      "Loss: 1.239428, Train accuracy: 1.000000, val accuracy: 0.000000\n",
      "Loss: 1.261447, Train accuracy: 1.000000, val accuracy: 0.000000\n",
      "Loss: 1.264569, Train accuracy: 1.000000, val accuracy: 0.000000\n",
      "Loss: 1.379632, Train accuracy: 1.000000, val accuracy: 0.000000\n",
      "Loss: 1.093428, Train accuracy: 1.000000, val accuracy: 0.000000\n",
      "Loss: 1.242367, Train accuracy: 1.000000, val accuracy: 0.000000\n",
      "Loss: 1.246357, Train accuracy: 1.000000, val accuracy: 0.000000\n",
      "Loss: 1.453723, Train accuracy: 1.000000, val accuracy: 0.000000\n",
      "Loss: 1.392030, Train accuracy: 1.000000, val accuracy: 0.000000\n",
      "Loss: 1.334849, Train accuracy: 1.000000, val accuracy: 0.000000\n",
      "Loss: 1.410120, Train accuracy: 1.000000, val accuracy: 0.000000\n",
      "Loss: 1.600830, Train accuracy: 1.000000, val accuracy: 0.000000\n",
      "Loss: 1.273247, Train accuracy: 1.000000, val accuracy: 0.000000\n",
      "Loss: 1.521447, Train accuracy: 1.000000, val accuracy: 0.000000\n",
      "Loss: 1.116784, Train accuracy: 1.000000, val accuracy: 0.000000\n",
      "Loss: 1.497706, Train accuracy: 1.000000, val accuracy: 0.000000\n",
      "Loss: 1.277078, Train accuracy: 1.000000, val accuracy: 0.000000\n",
      "Loss: 1.169569, Train accuracy: 1.000000, val accuracy: 0.000000\n",
      "Loss: 1.432965, Train accuracy: 1.000000, val accuracy: 0.000000\n",
      "Loss: 1.232945, Train accuracy: 1.000000, val accuracy: 0.000000\n"
     ]
    }
   ],
   "source": [
    "data_size = 15\n",
    "model = TwoLayerNet(n_input = train_X.shape[1], n_output = 10, hidden_layer_size = 100, reg = 1e-1)\n",
    "dataset = Dataset(train_X[:data_size], train_y[:data_size], val_X[:data_size], val_y[:data_size])\n",
    "trainer = Trainer(model, dataset, SGD(), learning_rate=1e-1, num_epochs=150, batch_size=5)\n",
    "\n",
    "# You should expect this to reach 1.0 training accuracy \n",
    "loss_history, train_history, val_history = trainer.fit()"
   ]
  },
  {
   "cell_type": "code",
   "execution_count": 86,
   "metadata": {},
   "outputs": [
    {
     "name": "stdout",
     "output_type": "stream",
     "text": [
      "Loss: 2.316329, Train accuracy: 0.200000, val accuracy: 0.066667\n",
      "Loss: 2.261615, Train accuracy: 0.200000, val accuracy: 0.066667\n",
      "Loss: 2.190318, Train accuracy: 0.333333, val accuracy: 0.066667\n",
      "Loss: 2.391057, Train accuracy: 0.400000, val accuracy: 0.000000\n",
      "Loss: 1.904170, Train accuracy: 0.400000, val accuracy: 0.000000\n",
      "Loss: 1.827320, Train accuracy: 0.400000, val accuracy: 0.000000\n",
      "Loss: 1.869548, Train accuracy: 0.466667, val accuracy: 0.066667\n",
      "Loss: 2.063250, Train accuracy: 0.600000, val accuracy: 0.066667\n",
      "Loss: 1.240157, Train accuracy: 0.466667, val accuracy: 0.133333\n",
      "Loss: 1.725343, Train accuracy: 0.533333, val accuracy: 0.000000\n",
      "Loss: 1.243743, Train accuracy: 0.733333, val accuracy: 0.000000\n",
      "Loss: 0.682226, Train accuracy: 0.733333, val accuracy: 0.000000\n",
      "Loss: 1.385270, Train accuracy: 0.866667, val accuracy: 0.000000\n",
      "Loss: 1.032475, Train accuracy: 0.866667, val accuracy: 0.000000\n",
      "Loss: 0.422349, Train accuracy: 1.000000, val accuracy: 0.000000\n",
      "Loss: 0.444226, Train accuracy: 1.000000, val accuracy: 0.066667\n",
      "Loss: 0.500864, Train accuracy: 1.000000, val accuracy: 0.066667\n",
      "Loss: 0.556676, Train accuracy: 1.000000, val accuracy: 0.066667\n",
      "Loss: 0.519065, Train accuracy: 1.000000, val accuracy: 0.066667\n",
      "Loss: 0.502645, Train accuracy: 1.000000, val accuracy: 0.066667\n"
     ]
    }
   ],
   "source": [
    "# Now, tweak some hyper parameters and make it train to 1.0 accuracy in 20 epochs or less\n",
    "\n",
    "model = TwoLayerNet(n_input = train_X.shape[1], n_output = 10, hidden_layer_size = 100, reg = 1e-2)\n",
    "dataset = Dataset(train_X[:data_size], train_y[:data_size], val_X[:data_size], val_y[:data_size])\n",
    "# TODO: Change any hyperparamers or optimizators to reach training accuracy in 20 epochs\n",
    "trainer = Trainer(model, dataset, MomentumSGD(), learning_rate_decay=0.99, learning_rate=1e-1, num_epochs=20, batch_size=5)\n",
    "\n",
    "loss_history, train_history, val_history = trainer.fit()"
   ]
  },
  {
   "cell_type": "code",
   "execution_count": 4,
   "metadata": {},
   "outputs": [
    {
     "name": "stdout",
     "output_type": "stream",
     "text": [
      "Loss: 2.253752, Train accuracy: 0.287444, val accuracy: 0.298000\n",
      "Loss: 1.988574, Train accuracy: 0.397889, val accuracy: 0.401000\n",
      "Loss: 2.111071, Train accuracy: 0.416000, val accuracy: 0.403000\n",
      "Loss: 2.149819, Train accuracy: 0.387778, val accuracy: 0.414000\n",
      "Loss: 2.130706, Train accuracy: 0.419778, val accuracy: 0.418000\n",
      "Loss: 1.953633, Train accuracy: 0.445556, val accuracy: 0.474000\n",
      "Loss: 2.021682, Train accuracy: 0.421444, val accuracy: 0.426000\n",
      "Loss: 2.146015, Train accuracy: 0.488667, val accuracy: 0.521000\n",
      "Loss: 2.097752, Train accuracy: 0.420556, val accuracy: 0.412000\n",
      "Loss: 2.082354, Train accuracy: 0.446556, val accuracy: 0.452000\n",
      "Loss: 1.975020, Train accuracy: 0.393667, val accuracy: 0.401000\n",
      "Loss: 2.147026, Train accuracy: 0.430000, val accuracy: 0.445000\n",
      "Loss: 1.986432, Train accuracy: 0.437111, val accuracy: 0.471000\n",
      "Loss: 1.987449, Train accuracy: 0.410444, val accuracy: 0.412000\n",
      "Loss: 2.031112, Train accuracy: 0.446000, val accuracy: 0.451000\n",
      "Loss: 2.227648, Train accuracy: 0.391333, val accuracy: 0.378000\n",
      "Loss: 2.128322, Train accuracy: 0.450556, val accuracy: 0.471000\n",
      "Loss: 1.862466, Train accuracy: 0.436000, val accuracy: 0.432000\n",
      "Loss: 2.075244, Train accuracy: 0.412556, val accuracy: 0.437000\n",
      "Loss: 2.020706, Train accuracy: 0.417889, val accuracy: 0.409000\n",
      "Loss: 1.914315, Train accuracy: 0.443556, val accuracy: 0.457000\n",
      "Loss: 1.851777, Train accuracy: 0.418000, val accuracy: 0.407000\n",
      "Loss: 2.411783, Train accuracy: 0.370111, val accuracy: 0.365000\n",
      "Loss: 1.769945, Train accuracy: 0.454556, val accuracy: 0.459000\n",
      "Loss: 2.072300, Train accuracy: 0.450778, val accuracy: 0.455000\n",
      "Loss: 1.992058, Train accuracy: 0.425778, val accuracy: 0.421000\n",
      "Loss: 1.827804, Train accuracy: 0.473222, val accuracy: 0.465000\n",
      "Loss: 1.847620, Train accuracy: 0.490778, val accuracy: 0.485000\n",
      "Loss: 1.912364, Train accuracy: 0.460000, val accuracy: 0.470000\n",
      "Loss: 2.054345, Train accuracy: 0.465889, val accuracy: 0.496000\n",
      "Loss: 2.251750, Train accuracy: 0.408778, val accuracy: 0.424000\n",
      "Loss: 2.079406, Train accuracy: 0.439889, val accuracy: 0.449000\n",
      "Loss: 1.937693, Train accuracy: 0.495667, val accuracy: 0.489000\n",
      "Loss: 2.167295, Train accuracy: 0.464333, val accuracy: 0.447000\n",
      "Loss: 2.024957, Train accuracy: 0.449111, val accuracy: 0.468000\n",
      "Loss: 2.015065, Train accuracy: 0.480333, val accuracy: 0.475000\n",
      "Loss: 1.912883, Train accuracy: 0.493000, val accuracy: 0.504000\n",
      "Loss: 2.084632, Train accuracy: 0.471333, val accuracy: 0.463000\n",
      "Loss: 1.848613, Train accuracy: 0.459889, val accuracy: 0.474000\n",
      "Loss: 2.337397, Train accuracy: 0.426222, val accuracy: 0.445000\n",
      "Loss: 1.934974, Train accuracy: 0.428556, val accuracy: 0.429000\n",
      "Loss: 2.121032, Train accuracy: 0.474333, val accuracy: 0.477000\n",
      "Loss: 2.123001, Train accuracy: 0.482111, val accuracy: 0.493000\n",
      "Loss: 2.094874, Train accuracy: 0.474222, val accuracy: 0.471000\n",
      "Loss: 2.016770, Train accuracy: 0.464444, val accuracy: 0.461000\n",
      "Loss: 2.251685, Train accuracy: 0.471444, val accuracy: 0.499000\n",
      "Loss: 1.742474, Train accuracy: 0.457000, val accuracy: 0.472000\n",
      "Loss: 1.957223, Train accuracy: 0.469889, val accuracy: 0.481000\n",
      "Loss: 2.045037, Train accuracy: 0.469778, val accuracy: 0.470000\n",
      "Loss: 2.033468, Train accuracy: 0.509556, val accuracy: 0.488000\n",
      "Loss: 2.078015, Train accuracy: 0.502222, val accuracy: 0.509000\n",
      "Loss: 2.084105, Train accuracy: 0.491556, val accuracy: 0.499000\n",
      "Loss: 1.992692, Train accuracy: 0.524222, val accuracy: 0.526000\n",
      "Loss: 2.067718, Train accuracy: 0.514556, val accuracy: 0.532000\n",
      "Loss: 1.940820, Train accuracy: 0.498889, val accuracy: 0.489000\n",
      "Loss: 2.076862, Train accuracy: 0.490556, val accuracy: 0.504000\n",
      "Loss: 2.036138, Train accuracy: 0.419222, val accuracy: 0.424000\n",
      "Loss: 1.957336, Train accuracy: 0.452778, val accuracy: 0.437000\n",
      "Loss: 2.049269, Train accuracy: 0.529333, val accuracy: 0.539000\n",
      "Loss: 2.069330, Train accuracy: 0.484333, val accuracy: 0.496000\n",
      "Loss: 2.072910, Train accuracy: 0.493111, val accuracy: 0.492000\n",
      "Loss: 2.076353, Train accuracy: 0.487667, val accuracy: 0.482000\n",
      "Loss: 2.129514, Train accuracy: 0.518444, val accuracy: 0.531000\n",
      "Loss: 1.695676, Train accuracy: 0.557111, val accuracy: 0.559000\n",
      "Loss: 1.896579, Train accuracy: 0.537444, val accuracy: 0.523000\n",
      "Loss: 1.883778, Train accuracy: 0.499000, val accuracy: 0.489000\n",
      "Loss: 1.839951, Train accuracy: 0.481778, val accuracy: 0.482000\n",
      "Loss: 1.882761, Train accuracy: 0.492889, val accuracy: 0.480000\n",
      "Loss: 1.973155, Train accuracy: 0.533000, val accuracy: 0.536000\n",
      "Loss: 2.010088, Train accuracy: 0.517333, val accuracy: 0.518000\n",
      "Loss: 1.949035, Train accuracy: 0.514778, val accuracy: 0.515000\n",
      "Loss: 1.832188, Train accuracy: 0.523000, val accuracy: 0.515000\n",
      "Loss: 2.085324, Train accuracy: 0.487889, val accuracy: 0.484000\n",
      "Loss: 1.805408, Train accuracy: 0.546111, val accuracy: 0.569000\n",
      "Loss: 1.976783, Train accuracy: 0.483556, val accuracy: 0.476000\n",
      "Loss: 1.849391, Train accuracy: 0.564111, val accuracy: 0.575000\n",
      "Loss: 1.861786, Train accuracy: 0.521111, val accuracy: 0.534000\n",
      "Loss: 1.998209, Train accuracy: 0.529333, val accuracy: 0.524000\n",
      "Loss: 1.868819, Train accuracy: 0.484111, val accuracy: 0.490000\n",
      "Loss: 1.952239, Train accuracy: 0.526889, val accuracy: 0.547000\n",
      "Loss: 1.993631, Train accuracy: 0.541111, val accuracy: 0.551000\n",
      "Loss: 1.975827, Train accuracy: 0.559778, val accuracy: 0.543000\n",
      "Loss: 1.796017, Train accuracy: 0.544333, val accuracy: 0.549000\n",
      "Loss: 1.860115, Train accuracy: 0.542778, val accuracy: 0.541000\n",
      "Loss: 1.886533, Train accuracy: 0.547000, val accuracy: 0.527000\n",
      "Loss: 1.962608, Train accuracy: 0.509667, val accuracy: 0.523000\n",
      "Loss: 1.829704, Train accuracy: 0.581222, val accuracy: 0.577000\n",
      "Loss: 1.557009, Train accuracy: 0.532667, val accuracy: 0.530000\n",
      "Loss: 1.965956, Train accuracy: 0.537667, val accuracy: 0.542000\n",
      "Loss: 1.975125, Train accuracy: 0.551778, val accuracy: 0.538000\n",
      "Loss: 1.972335, Train accuracy: 0.556333, val accuracy: 0.559000\n",
      "Loss: 1.981028, Train accuracy: 0.547778, val accuracy: 0.537000\n",
      "Loss: 1.901771, Train accuracy: 0.512111, val accuracy: 0.513000\n",
      "Loss: 1.785923, Train accuracy: 0.534333, val accuracy: 0.554000\n",
      "Loss: 2.156901, Train accuracy: 0.560111, val accuracy: 0.569000\n",
      "Loss: 1.919152, Train accuracy: 0.557667, val accuracy: 0.527000\n",
      "Loss: 2.051816, Train accuracy: 0.532444, val accuracy: 0.537000\n",
      "Loss: 1.878250, Train accuracy: 0.511778, val accuracy: 0.518000\n",
      "Loss: 1.898084, Train accuracy: 0.554444, val accuracy: 0.544000\n",
      "Loss: 1.892202, Train accuracy: 0.559889, val accuracy: 0.559000\n",
      "Loss: 1.719816, Train accuracy: 0.537556, val accuracy: 0.540000\n",
      "Loss: 1.966759, Train accuracy: 0.570889, val accuracy: 0.558000\n",
      "Loss: 1.815903, Train accuracy: 0.550556, val accuracy: 0.529000\n",
      "Loss: 1.887548, Train accuracy: 0.551222, val accuracy: 0.538000\n",
      "Loss: 1.958579, Train accuracy: 0.504000, val accuracy: 0.520000\n",
      "Loss: 1.822234, Train accuracy: 0.554000, val accuracy: 0.549000\n",
      "Loss: 1.748528, Train accuracy: 0.577222, val accuracy: 0.574000\n",
      "Loss: 1.830174, Train accuracy: 0.578778, val accuracy: 0.568000\n",
      "Loss: 1.894352, Train accuracy: 0.567444, val accuracy: 0.571000\n",
      "Loss: 2.040747, Train accuracy: 0.571667, val accuracy: 0.571000\n",
      "Loss: 1.918849, Train accuracy: 0.561333, val accuracy: 0.546000\n",
      "Loss: 1.916349, Train accuracy: 0.562000, val accuracy: 0.547000\n",
      "Loss: 2.054671, Train accuracy: 0.548333, val accuracy: 0.560000\n",
      "Loss: 1.947728, Train accuracy: 0.593667, val accuracy: 0.597000\n",
      "Loss: 1.797166, Train accuracy: 0.574111, val accuracy: 0.570000\n",
      "Loss: 1.837342, Train accuracy: 0.508556, val accuracy: 0.504000\n",
      "Loss: 1.868296, Train accuracy: 0.554222, val accuracy: 0.540000\n",
      "Loss: 1.786325, Train accuracy: 0.609556, val accuracy: 0.606000\n",
      "Loss: 1.923833, Train accuracy: 0.587556, val accuracy: 0.589000\n",
      "Loss: 1.824363, Train accuracy: 0.586889, val accuracy: 0.569000\n",
      "Loss: 1.695765, Train accuracy: 0.590000, val accuracy: 0.591000\n",
      "Loss: 1.976252, Train accuracy: 0.576000, val accuracy: 0.562000\n",
      "Loss: 1.875756, Train accuracy: 0.594889, val accuracy: 0.579000\n",
      "Loss: 1.774883, Train accuracy: 0.596111, val accuracy: 0.589000\n",
      "Loss: 1.914930, Train accuracy: 0.592111, val accuracy: 0.587000\n",
      "Loss: 1.955750, Train accuracy: 0.572778, val accuracy: 0.546000\n",
      "Loss: 1.937215, Train accuracy: 0.594667, val accuracy: 0.601000\n"
     ]
    },
    {
     "name": "stdout",
     "output_type": "stream",
     "text": [
      "Loss: 1.910346, Train accuracy: 0.609333, val accuracy: 0.605000\n",
      "Loss: 1.997464, Train accuracy: 0.605889, val accuracy: 0.615000\n",
      "Loss: 2.095986, Train accuracy: 0.575556, val accuracy: 0.568000\n",
      "Loss: 1.911134, Train accuracy: 0.592000, val accuracy: 0.599000\n",
      "Loss: 1.563791, Train accuracy: 0.592333, val accuracy: 0.599000\n",
      "Loss: 1.963902, Train accuracy: 0.567889, val accuracy: 0.582000\n",
      "Loss: 2.054400, Train accuracy: 0.610111, val accuracy: 0.590000\n",
      "Loss: 1.876331, Train accuracy: 0.607333, val accuracy: 0.603000\n",
      "Loss: 1.891943, Train accuracy: 0.613000, val accuracy: 0.604000\n",
      "Loss: 1.831656, Train accuracy: 0.612556, val accuracy: 0.605000\n",
      "Loss: 1.733175, Train accuracy: 0.604667, val accuracy: 0.599000\n",
      "Loss: 1.925492, Train accuracy: 0.581222, val accuracy: 0.574000\n",
      "Loss: 2.015535, Train accuracy: 0.607667, val accuracy: 0.591000\n",
      "Loss: 2.004098, Train accuracy: 0.570778, val accuracy: 0.587000\n",
      "Loss: 1.890133, Train accuracy: 0.600000, val accuracy: 0.603000\n",
      "Loss: 2.093292, Train accuracy: 0.604000, val accuracy: 0.596000\n",
      "Loss: 1.638938, Train accuracy: 0.622444, val accuracy: 0.630000\n",
      "Loss: 1.661753, Train accuracy: 0.611222, val accuracy: 0.603000\n",
      "Loss: 1.723740, Train accuracy: 0.627556, val accuracy: 0.633000\n",
      "Loss: 2.039546, Train accuracy: 0.548667, val accuracy: 0.549000\n",
      "Loss: 1.771332, Train accuracy: 0.586000, val accuracy: 0.576000\n",
      "Loss: 1.847869, Train accuracy: 0.603333, val accuracy: 0.591000\n",
      "Loss: 1.931353, Train accuracy: 0.610667, val accuracy: 0.596000\n",
      "Loss: 1.762693, Train accuracy: 0.590889, val accuracy: 0.591000\n",
      "Loss: 1.835987, Train accuracy: 0.612111, val accuracy: 0.610000\n",
      "Loss: 1.851259, Train accuracy: 0.557444, val accuracy: 0.557000\n",
      "Loss: 1.729055, Train accuracy: 0.602000, val accuracy: 0.593000\n",
      "Loss: 1.764859, Train accuracy: 0.626222, val accuracy: 0.617000\n",
      "Loss: 1.699444, Train accuracy: 0.606778, val accuracy: 0.588000\n",
      "Loss: 1.851621, Train accuracy: 0.646667, val accuracy: 0.624000\n",
      "Loss: 1.580654, Train accuracy: 0.593889, val accuracy: 0.572000\n",
      "Loss: 1.652335, Train accuracy: 0.629111, val accuracy: 0.618000\n",
      "Loss: 1.806070, Train accuracy: 0.599222, val accuracy: 0.587000\n",
      "Loss: 1.719454, Train accuracy: 0.599778, val accuracy: 0.581000\n",
      "Loss: 1.854058, Train accuracy: 0.575889, val accuracy: 0.546000\n",
      "Loss: 1.754877, Train accuracy: 0.602111, val accuracy: 0.597000\n",
      "Loss: 1.855294, Train accuracy: 0.636778, val accuracy: 0.627000\n",
      "Loss: 1.839023, Train accuracy: 0.627333, val accuracy: 0.595000\n",
      "Loss: 1.801921, Train accuracy: 0.616889, val accuracy: 0.600000\n",
      "Loss: 1.884908, Train accuracy: 0.600000, val accuracy: 0.590000\n",
      "Loss: 1.891747, Train accuracy: 0.629778, val accuracy: 0.620000\n",
      "Loss: 1.811912, Train accuracy: 0.622889, val accuracy: 0.616000\n",
      "Loss: 1.640053, Train accuracy: 0.633111, val accuracy: 0.608000\n",
      "Loss: 1.877336, Train accuracy: 0.641667, val accuracy: 0.643000\n",
      "Loss: 1.925923, Train accuracy: 0.604667, val accuracy: 0.592000\n",
      "Loss: 1.754649, Train accuracy: 0.611000, val accuracy: 0.597000\n",
      "Loss: 1.909410, Train accuracy: 0.608111, val accuracy: 0.616000\n",
      "Loss: 1.652327, Train accuracy: 0.624889, val accuracy: 0.619000\n",
      "Loss: 1.856188, Train accuracy: 0.620444, val accuracy: 0.605000\n",
      "Loss: 1.768699, Train accuracy: 0.620111, val accuracy: 0.599000\n",
      "Loss: 1.974477, Train accuracy: 0.622333, val accuracy: 0.597000\n",
      "Loss: 1.711575, Train accuracy: 0.616889, val accuracy: 0.595000\n",
      "Loss: 1.883579, Train accuracy: 0.607000, val accuracy: 0.596000\n",
      "Loss: 1.744874, Train accuracy: 0.638000, val accuracy: 0.607000\n",
      "Loss: 1.700264, Train accuracy: 0.610556, val accuracy: 0.599000\n",
      "Loss: 1.799472, Train accuracy: 0.606667, val accuracy: 0.596000\n",
      "Loss: 1.935529, Train accuracy: 0.618889, val accuracy: 0.610000\n",
      "Loss: 1.576943, Train accuracy: 0.624667, val accuracy: 0.612000\n",
      "Loss: 1.722392, Train accuracy: 0.632556, val accuracy: 0.627000\n",
      "Loss: 1.804062, Train accuracy: 0.649667, val accuracy: 0.625000\n",
      "Loss: 1.627009, Train accuracy: 0.637556, val accuracy: 0.628000\n",
      "Loss: 1.780595, Train accuracy: 0.627444, val accuracy: 0.603000\n",
      "Loss: 1.749928, Train accuracy: 0.623222, val accuracy: 0.622000\n",
      "Loss: 1.818512, Train accuracy: 0.641556, val accuracy: 0.642000\n",
      "Loss: 1.922739, Train accuracy: 0.620889, val accuracy: 0.619000\n",
      "Loss: 1.602296, Train accuracy: 0.644222, val accuracy: 0.635000\n",
      "Loss: 1.674382, Train accuracy: 0.640222, val accuracy: 0.624000\n",
      "Loss: 1.759403, Train accuracy: 0.632333, val accuracy: 0.617000\n",
      "Loss: 1.777525, Train accuracy: 0.640222, val accuracy: 0.645000\n",
      "Loss: 1.835944, Train accuracy: 0.644778, val accuracy: 0.629000\n",
      "Loss: 1.771315, Train accuracy: 0.618000, val accuracy: 0.633000\n",
      "Loss: 1.944621, Train accuracy: 0.645778, val accuracy: 0.634000\n",
      "Loss: 1.815924, Train accuracy: 0.629889, val accuracy: 0.628000\n"
     ]
    }
   ],
   "source": [
    "# Let's train the best one-hidden-layer network we can\n",
    "\n",
    "learning_rates = 1e-1\n",
    "reg_strength = 1e-2\n",
    "learning_rate_decay = 0.99\n",
    "hidden_layer_size = 120\n",
    "num_epochs = 200\n",
    "batch_size = 60\n",
    "\n",
    "best_classifier = None\n",
    "best_val_accuracy = None\n",
    "\n",
    "#loss_history = []\n",
    "#train_history = []\n",
    "#val_history = []\n",
    "\n",
    "# TODO find the best hyperparameters to train the network\n",
    "# Don't hesitate to add new values to the arrays above, perform experiments, use any tricks you want\n",
    "# You should expect to get to at least 40% of valudation accuracy\n",
    "# Save loss/train/history of the best classifier to the variables above\n",
    "model = TwoLayerNet(n_input = train_X.shape[1], n_output = 10, hidden_layer_size = hidden_layer_size, reg = reg_strength)\n",
    "dataset = Dataset(train_X, train_y, val_X, val_y)\n",
    "trainer = Trainer(model, dataset, MomentumSGD(), learning_rate_decay=learning_rate_decay, learning_rate=learning_rates, num_epochs=num_epochs, batch_size=batch_size)\n",
    "\n",
    "loss_history, train_history, val_history = trainer.fit()\n",
    "\n",
    "#print('best validation accuracy achieved: %f' % best_val_accuracy)"
   ]
  },
  {
   "cell_type": "code",
   "execution_count": 5,
   "metadata": {},
   "outputs": [
    {
     "data": {
      "text/plain": [
       "[<matplotlib.lines.Line2D at 0x55e43c8>]"
      ]
     },
     "execution_count": 5,
     "metadata": {},
     "output_type": "execute_result"
    },
    {
     "data": {
      "image/png": "[encoded data removed]",
      "text/plain": [
       "<Figure size 1080x504 with 2 Axes>"
      ]
     },
     "metadata": {
      "needs_background": "light"
     },
     "output_type": "display_data"
    }
   ],
   "source": [
    "plt.figure(figsize=(15, 7))\n",
    "plt.subplot(211)\n",
    "plt.title(\"Loss\")\n",
    "plt.plot(loss_history)\n",
    "plt.subplot(212)\n",
    "plt.title(\"Train/validation accuracy\")\n",
    "plt.plot(train_history)\n",
    "plt.plot(val_history)"
   ]
  },
  {
   "cell_type": "code",
   "execution_count": 6,
   "metadata": {},
   "outputs": [
    {
     "name": "stdout",
     "output_type": "stream",
     "text": [
      "Neural net test set accuracy: 0.586000\n"
     ]
    }
   ],
   "source": [
    "test_pred = model.predict(test_X)\n",
    "test_accuracy = multiclass_accuracy(test_pred, test_y)\n",
    "print('Neural net test set accuracy: %f' % (test_accuracy, ))"
   ]
  },
  {
   "cell_type": "code",
   "execution_count": null,
   "metadata": {},
   "outputs": [],
   "source": []
  }
 ],
 "metadata": {
  "kernelspec": {
   "display_name": "Python 3",
   "language": "python",
   "name": "python3"
  },
  "language_info": {
   "codemirror_mode": {
    "name": "ipython",
    "version": 3
   },
   "file_extension": ".py",
   "mimetype": "text/x-python",
   "name": "python",
   "nbconvert_exporter": "python",
   "pygments_lexer": "ipython3",
   "version": "3.6.5"
  }
 },
 "nbformat": 4,
 "nbformat_minor": 2
}
