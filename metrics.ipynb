{
 "cells": [
  {
   "cell_type": "code",
   "execution_count": 1,
   "metadata": {},
   "outputs": [
    {
     "name": "stdout",
     "output_type": "stream",
     "text": [
      "Overwriting metrics.py\n"
     ]
    }
   ],
   "source": [
    "%%writefile metrics.py\n",
    "def binary_classification_metrics(prediction, ground_truth):\n",
    "    '''\n",
    "    Computes metrics for binary classification\n",
    "    Arguments:\n",
    "    prediction, np array of bool (num_samples) - model predictions\n",
    "    ground_truth, np array of bool (num_samples) - true labels\n",
    "    Returns:\n",
    "    precision, recall, f1, accuracy - classification metrics\n",
    "    '''\n",
    "\n",
    "    # TODO: implement metrics!\n",
    "    # Some helpful links:\n",
    "    # https://en.wikipedia.org/wiki/Precision_and_recall\n",
    "    # https://en.wikipedia.org/wiki/F1_score\n",
    "    precision =sum(prediction*(prediction==ground_truth)) /sum(prediction==True)\n",
    "    recall = sum(prediction*(prediction==ground_truth))/sum(ground_truth==True)\n",
    "    accuracy = sum(prediction==ground_truth)/len(prediction)\n",
    "    f1 = 2*precision*recall/(precision+recall)\n",
    "    return precision, recall, f1, accuracy\n",
    "\n",
    "\n",
    "def multiclass_accuracy(prediction, ground_truth):\n",
    "    '''\n",
    "    Computes metrics for multiclass classification\n",
    "    Arguments:\n",
    "    prediction, np array of int (num_samples) - model predictions\n",
    "    ground_truth, np array of int (num_samples) - true labels\n",
    "    Returns:\n",
    "    accuracy - ratio of accurate predictions to total samples\n",
    "    '''\n",
    "    accuracy = sum(prediction==ground_truth)/len(prediction)\n",
    "    return accuracy"
   ]
  },
  {
   "cell_type": "code",
   "execution_count": null,
   "metadata": {},
   "outputs": [],
   "source": []
  }
 ],
 "metadata": {
  "kernelspec": {
   "display_name": "Python 3",
   "language": "python",
   "name": "python3"
  },
  "language_info": {
   "codemirror_mode": {
    "name": "ipython",
    "version": 3
   },
   "file_extension": ".py",
   "mimetype": "text/x-python",
   "name": "python",
   "nbconvert_exporter": "python",
   "pygments_lexer": "ipython3",
   "version": "3.6.5"
  }
 },
 "nbformat": 4,
 "nbformat_minor": 2
}
