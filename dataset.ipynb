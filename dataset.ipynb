{
 "cells": [
  {
   "cell_type": "code",
   "execution_count": 2,
   "metadata": {},
   "outputs": [
    {
     "name": "stdout",
     "output_type": "stream",
     "text": [
      "Writing dataset.py\n"
     ]
    }
   ],
   "source": [
    "%%writefile dataset.py\n",
    "import numpy as np\n",
    "import scipy.io as io\n",
    "import os\n",
    "\n",
    "\n",
    "def load_data_mat(filename, max_samples, seed=42):\n",
    "    '''\n",
    "    Loads numpy arrays from .mat file\n",
    "    Returns:\n",
    "    X, np array (num_samples, 32, 32, 3) - images\n",
    "    y, np array of int (num_samples) - labels\n",
    "    '''\n",
    "    raw = io.loadmat(filename)\n",
    "    X = raw['X']  # Array of [32, 32, 3, n_samples]\n",
    "    y = raw['y']  # Array of [n_samples, 1]\n",
    "    X = np.moveaxis(X, [3], [0])\n",
    "    y = y.flatten()\n",
    "    # Fix up class 0 to be 0\n",
    "    y[y == 10] = 0\n",
    "\n",
    "    np.random.seed(seed)\n",
    "    samples = np.random.choice(np.arange(X.shape[0]),\n",
    "                               max_samples,\n",
    "                               replace=False)\n",
    "    \n",
    "    return X[samples].astype(np.float32), y[samples]\n",
    "\n",
    "\n",
    "def load_svhn(folder, max_train, max_test):\n",
    "    '''\n",
    "    Loads SVHN dataset from file\n",
    "    Arguments:\n",
    "    Returns:\n",
    "    train_X, np array (num_train, 32, 32, 3) - training images\n",
    "    train_y, np array of int (num_train) - training labels\n",
    "    test_X, np array (num_test, 32, 32, 3) - test images\n",
    "    test_y, np array of int (num_test) - test labels\n",
    "    '''\n",
    "    train_X, train_y = load_data_mat(os.path.join(folder, \"train_32x32.mat\"), max_train)\n",
    "    test_X, test_y = load_data_mat(os.path.join(folder, \"test_32x32.mat\"), max_test)\n",
    "    return train_X, train_y, test_X, test_y\n",
    "\n",
    "\n",
    "def random_split_train_val(X, y, num_val, seed=42):\n",
    "    '''\n",
    "    Randomly splits dataset into training and validation\n",
    "    \n",
    "    Arguments:\n",
    "    X - np array with samples\n",
    "    y - np array with labels\n",
    "    num_val - number of samples to put in validation\n",
    "    seed - random seed\n",
    "    Returns:\n",
    "    train_X, np array (num_train, 32, 32, 3) - training images\n",
    "    train_y, np array of int (num_train) - training labels\n",
    "    val_X, np array (num_val, 32, 32, 3) - validation images\n",
    "    val_y, np array of int (num_val) - validation labels\n",
    "    '''\n",
    "    np.random.seed(seed)\n",
    "    \n",
    "    indices = np.arange(X.shape[0])\n",
    "    np.random.shuffle(indices)\n",
    "\n",
    "    train_indices = indices[:-num_val]\n",
    "    train_X = X[train_indices]\n",
    "    train_y = y[train_indices]\n",
    "\n",
    "    val_indices = indices[-num_val:]\n",
    "    val_X = X[val_indices]\n",
    "    val_y = y[val_indices]\n",
    "\n",
    "    return train_X, train_y, val_X, val_y"
   ]
  },
  {
   "cell_type": "code",
   "execution_count": null,
   "metadata": {},
   "outputs": [],
   "source": []
  }
 ],
 "metadata": {
  "kernelspec": {
   "display_name": "Python 3",
   "language": "python",
   "name": "python3"
  },
  "language_info": {
   "codemirror_mode": {
    "name": "ipython",
    "version": 3
   },
   "file_extension": ".py",
   "mimetype": "text/x-python",
   "name": "python",
   "nbconvert_exporter": "python",
   "pygments_lexer": "ipython3",
   "version": "3.6.5"
  }
 },
 "nbformat": 4,
 "nbformat_minor": 2
}
