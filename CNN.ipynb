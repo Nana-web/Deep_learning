{
 "cells": [
  {
   "cell_type": "code",
   "execution_count": 2,
   "metadata": {},
   "outputs": [],
   "source": [
    "import numpy as np\n",
    "import matplotlib.pyplot as plt\n",
    "\n",
    "%matplotlib inline\n",
    "\n",
    "%load_ext autoreload\n",
    "%autoreload 2"
   ]
  },
  {
   "cell_type": "code",
   "execution_count": 3,
   "metadata": {},
   "outputs": [],
   "source": [
    "from dataset import load_svhn, random_split_train_val\n",
    "from gradient_check import check_layer_gradient, check_layer_param_gradient, check_model_gradient\n",
    "from layers import FullyConnectedLayer, ReLULayer, ConvolutionalLayer, MaxPoolingLayer, Flattener\n",
    "from model_conv import ConvNet\n",
    "from trainer import Trainer, Dataset\n",
    "from optim import SGD, MomentumSGD\n",
    "from metrics import multiclass_accuracy"
   ]
  },
  {
   "cell_type": "code",
   "execution_count": 4,
   "metadata": {},
   "outputs": [],
   "source": [
    "def prepare_for_neural_network(train_X, test_X):    \n",
    "    train_X = train_X.astype(np.float) / 255.0\n",
    "    test_X = test_X.astype(np.float) / 255.0\n",
    "    \n",
    "    # Subtract mean\n",
    "    mean_image = np.mean(train_X, axis = 0)\n",
    "    train_X -= mean_image\n",
    "    test_X -= mean_image\n",
    "    \n",
    "    return train_X, test_X\n",
    "    \n",
    "train_X, train_y, test_X, test_y = load_svhn(\"data\", max_train=10000, max_test=1000)    \n",
    "train_X, test_X = prepare_for_neural_network(train_X, test_X)\n",
    "# Split train into train and val\n",
    "train_X, train_y, val_X, val_y = random_split_train_val(train_X, train_y, num_val = 1000)"
   ]
  },
  {
   "cell_type": "code",
   "execution_count": 5,
   "metadata": {},
   "outputs": [
    {
     "name": "stdout",
     "output_type": "stream",
     "text": [
      "Shape of X: (2, 2, 2, 1)\n",
      "Shape of W (2, 2, 1, 1)\n",
      "Shape of X: (2, 2, 2, 2)\n"
     ]
    }
   ],
   "source": [
    "# TODO: Implement ConvolutionaLayer that supports only 1 output and input channel\n",
    "\n",
    "# Note: now you're working with images, so X is 4-dimensional tensor of\n",
    "# (batch_size, height, width, channels)\n",
    "\n",
    "X = np.array([\n",
    "              [\n",
    "               [[1.0], [2.0]],\n",
    "               [[0.0], [-1.0]]\n",
    "              ]\n",
    "              ,\n",
    "              [\n",
    "               [[0.0], [1.0]],\n",
    "               [[-2.0], [-1.0]]\n",
    "              ]\n",
    "             ])\n",
    "\n",
    "# Batch of 2 images of dimensions 2x2 with a single channel\n",
    "print(\"Shape of X:\",X.shape)\n",
    "\n",
    "layer = ConvolutionalLayer(in_channels=1, out_channels=1, filter_size=2, padding=0)\n",
    "print(\"Shape of W\", layer.W.value.shape)\n",
    "layer.W.value = np.zeros_like(layer.W.value)\n",
    "layer.W.value[0, 0, 0, 0] = 1.0\n",
    "layer.B.value = np.ones_like(layer.B.value)\n",
    "result = layer.forward(X)\n",
    "\n",
    "assert result.shape == (2, 1, 1, 1)\n",
    "assert np.all(result == X[:, :1, :1, :1] +1), \"result: %s, X: %s\" % (result, X[:, :1, :1, :1])\n",
    "\n",
    "# Now let's implement multiple output channels\n",
    "layer = ConvolutionalLayer(in_channels=1, out_channels=2, filter_size=2, padding=0)\n",
    "result = layer.forward(X)\n",
    "assert result.shape == (2, 1, 1, 2)\n",
    "\n",
    "\n",
    "# And now multple input channels!\n",
    "X = np.array([\n",
    "              [\n",
    "               [[1.0, 0.0], [2.0, 1.0]],\n",
    "               [[0.0, -1.0], [-1.0, -2.0]]\n",
    "              ]\n",
    "              ,\n",
    "              [\n",
    "               [[0.0, 1.0], [1.0, -1.0]],\n",
    "               [[-2.0, 2.0], [-1.0, 0.0]]\n",
    "              ]\n",
    "             ])\n",
    "\n",
    "print(\"Shape of X:\", X.shape)\n",
    "layer = ConvolutionalLayer(in_channels=2, out_channels=2, filter_size=2, padding=0)\n",
    "result = layer.forward(X)\n",
    "assert result.shape == (2, 1, 1, 2)"
   ]
  },
  {
   "cell_type": "code",
   "execution_count": 6,
   "metadata": {},
   "outputs": [
    {
     "name": "stdout",
     "output_type": "stream",
     "text": [
      "Gradient check passed!\n",
      "Gradient check passed!\n",
      "Gradient check passed!\n"
     ]
    }
   ],
   "source": [
    "# First test - check the shape is right\n",
    "layer = ConvolutionalLayer(in_channels=2, out_channels=2, filter_size=2, padding=0)\n",
    "result = layer.forward(X)\n",
    "d_input = layer.backward(np.ones_like(result))\n",
    "assert d_input.shape == X.shape\n",
    "\n",
    "# Actually test the backward pass\n",
    "# As usual, you'll need to copy gradient check code from the previous assignment\n",
    "layer = ConvolutionalLayer(in_channels=2, out_channels=2, filter_size=2, padding=0)\n",
    "assert check_layer_gradient(layer, X)\n",
    "\n",
    "layer = ConvolutionalLayer(in_channels=2, out_channels=2, filter_size=2, padding=0)\n",
    "assert check_layer_param_gradient(layer, X, 'W')\n",
    "layer = ConvolutionalLayer(in_channels=2, out_channels=2, filter_size=2, padding=0)\n",
    "assert check_layer_param_gradient(layer, X, 'B')"
   ]
  },
  {
   "cell_type": "code",
   "execution_count": 7,
   "metadata": {},
   "outputs": [
    {
     "name": "stdout",
     "output_type": "stream",
     "text": [
      "Gradient check passed!\n"
     ]
    }
   ],
   "source": [
    "layer = ConvolutionalLayer(in_channels=2, out_channels=2, filter_size=3, padding=1)\n",
    "result = layer.forward(X)\n",
    "# Note this kind of layer produces the same dimensions as input\n",
    "assert result.shape == X.shape,\"Result shape: %s - Expected shape %s\" % (result.shape, X.shape)\n",
    "d_input = layer.backward(np.ones_like(result))\n",
    "assert d_input.shape == X.shape\n",
    "layer = ConvolutionalLayer(in_channels=2, out_channels=2, filter_size=3, padding=1)\n",
    "assert check_layer_gradient(layer, X)\n"
   ]
  },
  {
   "cell_type": "code",
   "execution_count": 8,
   "metadata": {},
   "outputs": [
    {
     "name": "stdout",
     "output_type": "stream",
     "text": [
      "Gradient check passed!\n"
     ]
    }
   ],
   "source": [
    "pool = MaxPoolingLayer(2, 2)\n",
    "result = pool.forward(X)\n",
    "assert result.shape == (2, 1, 1, 2)\n",
    "\n",
    "assert check_layer_gradient(pool, X)\n",
    "\n"
   ]
  },
  {
   "cell_type": "code",
   "execution_count": 9,
   "metadata": {},
   "outputs": [
    {
     "name": "stdout",
     "output_type": "stream",
     "text": [
      "Gradient check passed!\n"
     ]
    }
   ],
   "source": [
    "flattener = Flattener()\n",
    "result = flattener.forward(X)\n",
    "assert result.shape == (2,8)\n",
    "\n",
    "assert check_layer_gradient(flattener, X)"
   ]
  },
  {
   "cell_type": "code",
   "execution_count": 10,
   "metadata": {},
   "outputs": [
    {
     "name": "stdout",
     "output_type": "stream",
     "text": [
      "Checking gradient for W1\n",
      "Gradient check passed!\n",
      "Checking gradient for B1\n",
      "Gradient check passed!\n",
      "Checking gradient for W2\n",
      "Gradient check passed!\n",
      "Checking gradient for B2\n",
      "Gradient check passed!\n",
      "Checking gradient for W3\n",
      "Gradient check passed!\n",
      "Checking gradient for B3\n",
      "Gradient check passed!\n"
     ]
    },
    {
     "data": {
      "text/plain": [
       "True"
      ]
     },
     "execution_count": 10,
     "metadata": {},
     "output_type": "execute_result"
    }
   ],
   "source": [
    "# TODO: In model.py, implement missed functions function for ConvNet model\n",
    "\n",
    "# No need to use L2 regularization\n",
    "model = ConvNet(input_shape=(32,32,3), n_output_classes=10, conv1_channels=2, conv2_channels=2)\n",
    "loss = model.compute_loss_and_gradients(train_X[:2], train_y[:2])\n",
    "\n",
    "# TODO Now implement backward pass and aggregate all of the params\n",
    "check_model_gradient(model, train_X[:2], train_y[:2])"
   ]
  },
  {
   "cell_type": "code",
   "execution_count": 11,
   "metadata": {},
   "outputs": [
    {
     "name": "stdout",
     "output_type": "stream",
     "text": [
      "Loss: 2.302694, Train accuracy: 0.062500, val accuracy: 0.000000\n",
      "Loss: 2.302659, Train accuracy: 0.062500, val accuracy: 0.000000\n",
      "Loss: 2.302625, Train accuracy: 0.062500, val accuracy: 0.000000\n",
      "Loss: 2.302590, Train accuracy: 0.062500, val accuracy: 0.000000\n",
      "Loss: 2.302556, Train accuracy: 0.062500, val accuracy: 0.000000\n",
      "Loss: 2.302521, Train accuracy: 0.062500, val accuracy: 0.000000\n",
      "Loss: 2.302487, Train accuracy: 0.062500, val accuracy: 0.000000\n",
      "Loss: 2.302452, Train accuracy: 0.062500, val accuracy: 0.000000\n",
      "Loss: 2.302418, Train accuracy: 0.062500, val accuracy: 0.000000\n",
      "Loss: 2.302383, Train accuracy: 0.062500, val accuracy: 0.000000\n",
      "Loss: 2.302349, Train accuracy: 0.062500, val accuracy: 0.000000\n",
      "Loss: 2.302314, Train accuracy: 0.062500, val accuracy: 0.000000\n",
      "Loss: 2.302280, Train accuracy: 0.062500, val accuracy: 0.000000\n",
      "Loss: 2.302245, Train accuracy: 0.062500, val accuracy: 0.000000\n",
      "Loss: 2.302211, Train accuracy: 0.062500, val accuracy: 0.000000\n",
      "Loss: 2.302176, Train accuracy: 0.062500, val accuracy: 0.000000\n",
      "Loss: 2.302142, Train accuracy: 0.062500, val accuracy: 0.000000\n",
      "Loss: 2.302107, Train accuracy: 0.062500, val accuracy: 0.000000\n",
      "Loss: 2.302073, Train accuracy: 0.062500, val accuracy: 0.000000\n",
      "Loss: 2.302038, Train accuracy: 0.062500, val accuracy: 0.000000\n"
     ]
    }
   ],
   "source": [
    "model = ConvNet(input_shape=(32,32,3), n_output_classes=10, conv1_channels=2, conv2_channels=2)\n",
    "dataset = Dataset(train_X[:16], train_y[:16], val_X[:16], val_y[:16])\n",
    "trainer = Trainer(model, dataset, SGD(), batch_size=16, learning_rate=1e-4)\n",
    "\n",
    "loss_history, train_history, val_history = trainer.fit()"
   ]
  },
  {
   "cell_type": "code",
   "execution_count": 12,
   "metadata": {},
   "outputs": [
    {
     "data": {
      "text/plain": [
       "[<matplotlib.lines.Line2D at 0x8cbe748>]"
      ]
     },
     "execution_count": 12,
     "metadata": {},
     "output_type": "execute_result"
    },
    {
     "data": {
      "image/png": "[encoded data removed]",
      "text/plain": [
       "<Figure size 432x288 with 1 Axes>"
      ]
     },
     "metadata": {
      "needs_background": "light"
     },
     "output_type": "display_data"
    }
   ],
   "source": [
    "plt.plot(train_history)\n",
    "plt.plot(val_history)"
   ]
  },
  {
   "cell_type": "code",
   "execution_count": 41,
   "metadata": {},
   "outputs": [
    {
     "name": "stdout",
     "output_type": "stream",
     "text": [
      "Loss: 2.305242, Train accuracy: 0.179688, val accuracy: 0.250000\n",
      "Loss: 2.287696, Train accuracy: 0.156250, val accuracy: 0.093750\n",
      "Loss: 2.287327, Train accuracy: 0.187500, val accuracy: 0.250000\n",
      "Loss: 2.337153, Train accuracy: 0.179688, val accuracy: 0.250000\n",
      "Loss: 2.229412, Train accuracy: 0.156250, val accuracy: 0.093750\n",
      "Loss: 2.269440, Train accuracy: 0.203125, val accuracy: 0.242188\n",
      "Loss: 2.287129, Train accuracy: 0.187500, val accuracy: 0.226562\n",
      "Loss: 2.211274, Train accuracy: 0.148438, val accuracy: 0.062500\n",
      "Loss: 2.215230, Train accuracy: 0.187500, val accuracy: 0.250000\n",
      "Loss: 2.351107, Train accuracy: 0.195312, val accuracy: 0.218750\n",
      "Loss: 2.250535, Train accuracy: 0.179688, val accuracy: 0.125000\n",
      "Loss: 2.253449, Train accuracy: 0.195312, val accuracy: 0.210938\n",
      "Loss: 2.227093, Train accuracy: 0.171875, val accuracy: 0.250000\n",
      "Loss: 2.219715, Train accuracy: 0.187500, val accuracy: 0.109375\n",
      "Loss: 2.238069, Train accuracy: 0.242188, val accuracy: 0.218750\n",
      "Loss: 2.139072, Train accuracy: 0.195312, val accuracy: 0.242188\n",
      "Loss: 2.093861, Train accuracy: 0.210938, val accuracy: 0.148438\n",
      "Loss: 2.075627, Train accuracy: 0.296875, val accuracy: 0.171875\n",
      "Loss: 2.055799, Train accuracy: 0.210938, val accuracy: 0.250000\n",
      "Loss: 2.033499, Train accuracy: 0.226562, val accuracy: 0.250000\n"
     ]
    }
   ],
   "source": [
    "data_size = 128\n",
    "model = ConvNet(input_shape=(32,32,3), n_output_classes=10, conv1_channels=3, conv2_channels=3)\n",
    "dataset = Dataset(train_X[:data_size], train_y[:data_size], val_X[:data_size], val_y[:data_size])\n",
    "# TODO: Change any hyperparamers or optimizators to reach 1.0 training accuracy in 50 epochs or less\n",
    "# Hint: If you have hard time finding the right parameters manually, try grid search or random search!\n",
    "trainer = Trainer(model, dataset, MomentumSGD(), learning_rate=1e-2, learning_rate_decay=1, num_epochs=20, batch_size=64)\n",
    "\n",
    "loss_history, train_history, val_history = trainer.fit()\n",
    "\n"
   ]
  },
  {
   "cell_type": "code",
   "execution_count": 38,
   "metadata": {},
   "outputs": [
    {
     "name": "stdout",
     "output_type": "stream",
     "text": [
      "Loss: 2.260800, Train accuracy: 0.179688, val accuracy: 0.250000\n",
      "Loss: 2.175084, Train accuracy: 0.179688, val accuracy: 0.250000\n",
      "Loss: 2.161721, Train accuracy: 0.179688, val accuracy: 0.250000\n",
      "Loss: 2.227841, Train accuracy: 0.179688, val accuracy: 0.250000\n",
      "Loss: 2.181467, Train accuracy: 0.179688, val accuracy: 0.250000\n",
      "Loss: 2.266383, Train accuracy: 0.179688, val accuracy: 0.250000\n",
      "Loss: 2.259553, Train accuracy: 0.179688, val accuracy: 0.250000\n",
      "Loss: 2.202524, Train accuracy: 0.179688, val accuracy: 0.250000\n",
      "Loss: 2.228290, Train accuracy: 0.179688, val accuracy: 0.250000\n",
      "Loss: 2.196900, Train accuracy: 0.179688, val accuracy: 0.250000\n",
      "Loss: 2.276017, Train accuracy: 0.179688, val accuracy: 0.250000\n",
      "Loss: 2.232297, Train accuracy: 0.179688, val accuracy: 0.250000\n",
      "Loss: 2.238008, Train accuracy: 0.179688, val accuracy: 0.250000\n",
      "Loss: 2.238758, Train accuracy: 0.179688, val accuracy: 0.250000\n",
      "Loss: 2.261645, Train accuracy: 0.179688, val accuracy: 0.250000\n",
      "Loss: 2.169731, Train accuracy: 0.179688, val accuracy: 0.250000\n",
      "Loss: 2.283344, Train accuracy: 0.179688, val accuracy: 0.250000\n",
      "Loss: 2.192298, Train accuracy: 0.179688, val accuracy: 0.250000\n",
      "Loss: 2.204512, Train accuracy: 0.179688, val accuracy: 0.250000\n",
      "Loss: 2.193033, Train accuracy: 0.179688, val accuracy: 0.250000\n"
     ]
    }
   ],
   "source": [
    "trainer = Trainer(model, dataset, MomentumSGD(), learning_rate=1e-2, learning_rate_decay=1, num_epochs=20, batch_size=64)\n",
    "\n",
    "loss_history, train_history, val_history = trainer.fit()\n"
   ]
  },
  {
   "cell_type": "code",
   "execution_count": null,
   "metadata": {},
   "outputs": [],
   "source": [
    "plt.plot(train_history)\n",
    "plt.plot(val_history)"
   ]
  },
  {
   "cell_type": "code",
   "execution_count": null,
   "metadata": {},
   "outputs": [],
   "source": []
  }
 ],
 "metadata": {
  "kernelspec": {
   "display_name": "Python 3",
   "language": "python",
   "name": "python3"
  }
 },
 "nbformat": 4,
 "nbformat_minor": 2
}
