{
 "cells": [
  {
   "cell_type": "code",
   "execution_count": 2,
   "metadata": {},
   "outputs": [
    {
     "name": "stdout",
     "output_type": "stream",
     "text": [
      "Overwriting optim.py\n"
     ]
    }
   ],
   "source": [
    "%%writefile optim.py\n",
    "import numpy as np\n",
    "\n",
    "\n",
    "class SGD:\n",
    "    \"\"\"\n",
    "    Implements vanilla SGD update\n",
    "    \"\"\"\n",
    "    def update(self, w, d_w, learning_rate):\n",
    "        \"\"\"\n",
    "        Performs SGD update\n",
    "        Arguments:\n",
    "        w, np array - weights\n",
    "        d_w, np array, same shape as w - gradient\n",
    "        learning_rate, float - learning rate\n",
    "        Returns:\n",
    "        updated_weights, np array same shape as w\n",
    "        \"\"\"\n",
    "        return w - d_w * learning_rate\n",
    "\n",
    "\n",
    "class MomentumSGD:\n",
    "    \"\"\"\n",
    "    Implements Momentum SGD update\n",
    "    \"\"\"\n",
    "    def __init__(self, momentum=0.9):\n",
    "        self.momentum = 0.9\n",
    "        self.velocity = 0\n",
    "    \n",
    "    def update(self, w, d_w, learning_rate):\n",
    "        \"\"\"\n",
    "        Performs Momentum SGD update\n",
    "        Arguments:\n",
    "        w, np array - weights\n",
    "        d_w, np array, same shape as w - gradient\n",
    "        learning_rate, float - learning rate\n",
    "        Returns:\n",
    "        updated_weights, np array same shape as w\n",
    "        \"\"\"\n",
    "        # TODO Implement momentum update\n",
    "        # Hint: you'll need to introduce some variables to remember\n",
    "        # velocity from the previous updates\n",
    "        self.velocity = self.momentum * self.velocity - learning_rate * d_w \n",
    "        \n",
    "        return w + self.velocity     "
   ]
  },
  {
   "cell_type": "code",
   "execution_count": null,
   "metadata": {},
   "outputs": [],
   "source": []
  },
  {
   "cell_type": "code",
   "execution_count": null,
   "metadata": {},
   "outputs": [],
   "source": []
  },
  {
   "cell_type": "code",
   "execution_count": null,
   "metadata": {},
   "outputs": [],
   "source": []
  }
 ],
 "metadata": {
  "kernelspec": {
   "display_name": "Python 3",
   "language": "python",
   "name": "python3"
  },
  "language_info": {
   "codemirror_mode": {
    "name": "ipython",
    "version": 3
   },
   "file_extension": ".py",
   "mimetype": "text/x-python",
   "name": "python",
   "nbconvert_exporter": "python",
   "pygments_lexer": "ipython3",
   "version": "3.6.5"
  }
 },
 "nbformat": 4,
 "nbformat_minor": 2
}
